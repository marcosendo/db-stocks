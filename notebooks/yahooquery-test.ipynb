{
 "cells": [
  {
   "cell_type": "code",
   "execution_count": 1,
   "id": "solved-newton",
   "metadata": {},
   "outputs": [],
   "source": [
    "import numpy as np\n",
    "import pandas as pd\n",
    "from yahooquery import Ticker, Screener"
   ]
  },
  {
   "cell_type": "code",
   "execution_count": 2,
   "id": "interracial-croatia",
   "metadata": {},
   "outputs": [],
   "source": [
    "df_tickers = pd.read_excel('../data/external/Yahoo Finance Tickers - 2021Feb08.xlsx')"
   ]
  },
  {
   "cell_type": "code",
   "execution_count": 3,
   "id": "chicken-award",
   "metadata": {},
   "outputs": [],
   "source": [
    "df_tickers.to_csv('../data/external/Yahoo Finance Tickers - 2021Feb08.csv', index = False)"
   ]
  },
  {
   "cell_type": "code",
   "execution_count": 15,
   "id": "rapid-drill",
   "metadata": {},
   "outputs": [],
   "source": [
    "symbols = df_tickers['Symbol'].values"
   ]
  },
  {
   "cell_type": "code",
   "execution_count": 16,
   "id": "mobile-genre",
   "metadata": {},
   "outputs": [
    {
     "data": {
      "text/plain": [
       "array(['AAPL34.SA', 'MSFT34.SA', 'AMZO34.SA', ..., 'XPIN11.SA',\n",
       "       'XPLG11.SA', 'ALZR11.SA'], dtype=object)"
      ]
     },
     "execution_count": 16,
     "metadata": {},
     "output_type": "execute_result"
    }
   ],
   "source": [
    "symbols"
   ]
  },
  {
   "cell_type": "code",
   "execution_count": 17,
   "id": "integral-divorce",
   "metadata": {},
   "outputs": [],
   "source": [
    "tickers = Ticker(symbols, asynchronous=True)"
   ]
  },
  {
   "cell_type": "code",
   "execution_count": 18,
   "id": "personalized-hamilton",
   "metadata": {},
   "outputs": [],
   "source": [
    "data = tickers.asset_profile"
   ]
  },
  {
   "cell_type": "code",
   "execution_count": 19,
   "id": "recognized-immune",
   "metadata": {},
   "outputs": [
    {
     "data": {
      "text/plain": [
       "array(['AAPL34.SA', 'MSFT34.SA', 'AMZO34.SA', ..., 'XPIN11.SA',\n",
       "       'XPLG11.SA', 'ALZR11.SA'], dtype=object)"
      ]
     },
     "execution_count": 19,
     "metadata": {},
     "output_type": "execute_result"
    }
   ],
   "source": [
    "symbols"
   ]
  },
  {
   "cell_type": "code",
   "execution_count": 20,
   "id": "voluntary-window",
   "metadata": {
    "scrolled": true
   },
   "outputs": [
    {
     "data": {
      "text/plain": [
       "{'address1': '410 Terry Avenue North',\n",
       " 'city': 'Seattle',\n",
       " 'state': 'WA',\n",
       " 'zip': '98109-5210',\n",
       " 'country': 'United States',\n",
       " 'phone': '206-266-1000',\n",
       " 'website': 'http://www.amazon.com',\n",
       " 'industry': 'Internet Retail',\n",
       " 'sector': 'Consumer Cyclical',\n",
       " 'longBusinessSummary': 'Amazon.com, Inc. engages in the retail sale of consumer products and subscriptions in North America and internationally. The company operates through three segments: North America, International, and Amazon Web Services (AWS). It sells merchandise and content purchased for resale from third-party sellers through physical and online stores. The company also manufactures and sells electronic devices, including Kindle, Fire tablets, Fire TVs, Rings, and Echo and other devices; provides Kindle Direct Publishing, an online service that allows independent authors and publishers to make their books available in the Kindle Store; and develops and produces media content. In addition, it offers programs that enable sellers to sell their products on its websites, as well as its stores; and programs that allow authors, musicians, filmmakers, skill and app developers, and others to publish and sell content. Further, the company provides compute, storage, database, analytics, machine learning, and other services, as well as fulfillment, advertising, publishing, and digital content subscriptions. Additionally, it offers Amazon Prime, a membership program, which provides free shipping of various items; access to streaming of movies and TV episodes; and other services. The company serves consumers, sellers, developers, enterprises, and content creators. Amazon.com, Inc. was founded in 1994 and is headquartered in Seattle, Washington.',\n",
       " 'fullTimeEmployees': 1271000,\n",
       " 'companyOfficers': [{'maxAge': 1,\n",
       "   'name': 'Mr. Jeffrey P. Bezos',\n",
       "   'age': 56,\n",
       "   'title': 'Founder, Chairman, Pres & CEO',\n",
       "   'yearBorn': 1964,\n",
       "   'fiscalYear': 2020,\n",
       "   'totalPay': 1681840,\n",
       "   'exercisedValue': 0,\n",
       "   'unexercisedValue': 0},\n",
       "  {'maxAge': 1,\n",
       "   'name': 'Mr. Brian T. Olsavsky',\n",
       "   'age': 56,\n",
       "   'title': 'Sr. VP & CFO',\n",
       "   'yearBorn': 1964,\n",
       "   'fiscalYear': 2020,\n",
       "   'totalPay': 163200,\n",
       "   'exercisedValue': 0,\n",
       "   'unexercisedValue': 0},\n",
       "  {'maxAge': 1,\n",
       "   'name': 'Mr. David A. Zapolsky',\n",
       "   'age': 56,\n",
       "   'title': 'Sr. VP, Gen. Counsel & Sec.',\n",
       "   'yearBorn': 1964,\n",
       "   'fiscalYear': 2020,\n",
       "   'totalPay': 163200,\n",
       "   'exercisedValue': 0,\n",
       "   'unexercisedValue': 0},\n",
       "  {'maxAge': 1,\n",
       "   'name': 'Mr. David H. Clark',\n",
       "   'age': 47,\n",
       "   'title': 'Chief Exec. Officer of Worldwide Consumer',\n",
       "   'yearBorn': 1973,\n",
       "   'fiscalYear': 2020,\n",
       "   'totalPay': 166783,\n",
       "   'exercisedValue': 0,\n",
       "   'unexercisedValue': 0},\n",
       "  {'maxAge': 1,\n",
       "   'name': 'Mr. Andrew R. Jassy',\n",
       "   'age': 52,\n",
       "   'title': 'Chief Exec. Officer of Amazon Web Services Inc.',\n",
       "   'yearBorn': 1968,\n",
       "   'fiscalYear': 2020,\n",
       "   'totalPay': 209381,\n",
       "   'exercisedValue': 0,\n",
       "   'unexercisedValue': 0},\n",
       "  {'maxAge': 1,\n",
       "   'name': 'Ms. Shelley L. Reynolds',\n",
       "   'age': 55,\n",
       "   'title': 'VP, Worldwide Controller & Principal Accounting Officer',\n",
       "   'yearBorn': 1965,\n",
       "   'fiscalYear': 2009,\n",
       "   'exercisedValue': 0,\n",
       "   'unexercisedValue': 0},\n",
       "  {'maxAge': 1,\n",
       "   'name': 'Dr. Werner  Vogels',\n",
       "   'title': 'Chief Technology Officer',\n",
       "   'exercisedValue': 0,\n",
       "   'unexercisedValue': 0},\n",
       "  {'maxAge': 1,\n",
       "   'name': 'Mr. Dave  Fildes',\n",
       "   'title': 'Director of Investor Relations',\n",
       "   'exercisedValue': 0,\n",
       "   'unexercisedValue': 0},\n",
       "  {'maxAge': 1,\n",
       "   'name': 'Ms. Ragia  Samir',\n",
       "   'title': 'Head of Marketing',\n",
       "   'exercisedValue': 0,\n",
       "   'unexercisedValue': 0},\n",
       "  {'maxAge': 1,\n",
       "   'name': 'Ms. Beth  Galetti',\n",
       "   'title': 'Sr. VP of Worldwide HR',\n",
       "   'exercisedValue': 0,\n",
       "   'unexercisedValue': 0}],\n",
       " 'auditRisk': 1,\n",
       " 'boardRisk': 9,\n",
       " 'compensationRisk': 9,\n",
       " 'shareHolderRightsRisk': 2,\n",
       " 'overallRisk': 6,\n",
       " 'governanceEpochDate': '2021-04-29 21:00:00',\n",
       " 'compensationAsOfEpochDate': '2020-12-30 21:00:00',\n",
       " 'maxAge': 86400}"
      ]
     },
     "execution_count": 20,
     "metadata": {},
     "output_type": "execute_result"
    }
   ],
   "source": [
    "data['AMZO34.SA']"
   ]
  },
  {
   "cell_type": "code",
   "execution_count": 24,
   "id": "stuffed-catholic",
   "metadata": {},
   "outputs": [],
   "source": [
    "income = tickers.income_statement(frequency='q', trailing=False)\n"
   ]
  },
  {
   "cell_type": "code",
   "execution_count": 12,
   "id": "reflected-bathroom",
   "metadata": {},
   "outputs": [],
   "source": [
    "prices = tickers.history(period = 'max')"
   ]
  },
  {
   "cell_type": "code",
   "execution_count": 13,
   "id": "oriented-anthropology",
   "metadata": {},
   "outputs": [],
   "source": [
    "prices.to_csv('../data/output/prices.csv')"
   ]
  },
  {
   "cell_type": "code",
   "execution_count": 23,
   "id": "ongoing-performer",
   "metadata": {},
   "outputs": [
    {
     "data": {
      "text/html": [
       "<div>\n",
       "<style scoped>\n",
       "    .dataframe tbody tr th:only-of-type {\n",
       "        vertical-align: middle;\n",
       "    }\n",
       "\n",
       "    .dataframe tbody tr th {\n",
       "        vertical-align: top;\n",
       "    }\n",
       "\n",
       "    .dataframe thead th {\n",
       "        text-align: right;\n",
       "    }\n",
       "</style>\n",
       "<table border=\"1\" class=\"dataframe\">\n",
       "  <thead>\n",
       "    <tr style=\"text-align: right;\">\n",
       "      <th></th>\n",
       "      <th></th>\n",
       "      <th>volume</th>\n",
       "      <th>close</th>\n",
       "      <th>low</th>\n",
       "      <th>open</th>\n",
       "      <th>high</th>\n",
       "      <th>adjclose</th>\n",
       "      <th>dividends</th>\n",
       "      <th>splits</th>\n",
       "    </tr>\n",
       "    <tr>\n",
       "      <th>symbol</th>\n",
       "      <th>date</th>\n",
       "      <th></th>\n",
       "      <th></th>\n",
       "      <th></th>\n",
       "      <th></th>\n",
       "      <th></th>\n",
       "      <th></th>\n",
       "      <th></th>\n",
       "      <th></th>\n",
       "    </tr>\n",
       "  </thead>\n",
       "  <tbody>\n",
       "    <tr>\n",
       "      <th rowspan=\"5\" valign=\"top\">AAPL34.SA</th>\n",
       "      <th>2012-02-23</th>\n",
       "      <td>0.0</td>\n",
       "      <td>3.164290</td>\n",
       "      <td>3.164290</td>\n",
       "      <td>3.164290</td>\n",
       "      <td>3.164290</td>\n",
       "      <td>0.671165</td>\n",
       "      <td>0.0</td>\n",
       "      <td>0.0</td>\n",
       "    </tr>\n",
       "    <tr>\n",
       "      <th>2012-02-24</th>\n",
       "      <td>0.0</td>\n",
       "      <td>3.164290</td>\n",
       "      <td>3.164290</td>\n",
       "      <td>3.164290</td>\n",
       "      <td>3.164290</td>\n",
       "      <td>0.671165</td>\n",
       "      <td>0.0</td>\n",
       "      <td>0.0</td>\n",
       "    </tr>\n",
       "    <tr>\n",
       "      <th>2012-02-27</th>\n",
       "      <td>0.0</td>\n",
       "      <td>3.164290</td>\n",
       "      <td>3.164290</td>\n",
       "      <td>3.164290</td>\n",
       "      <td>3.164290</td>\n",
       "      <td>0.671165</td>\n",
       "      <td>0.0</td>\n",
       "      <td>0.0</td>\n",
       "    </tr>\n",
       "    <tr>\n",
       "      <th>2012-02-28</th>\n",
       "      <td>0.0</td>\n",
       "      <td>3.164290</td>\n",
       "      <td>3.164290</td>\n",
       "      <td>3.164290</td>\n",
       "      <td>3.164290</td>\n",
       "      <td>0.671165</td>\n",
       "      <td>0.0</td>\n",
       "      <td>0.0</td>\n",
       "    </tr>\n",
       "    <tr>\n",
       "      <th>2012-02-29</th>\n",
       "      <td>11200.0</td>\n",
       "      <td>3.308930</td>\n",
       "      <td>3.308930</td>\n",
       "      <td>3.308930</td>\n",
       "      <td>3.308930</td>\n",
       "      <td>0.701844</td>\n",
       "      <td>0.0</td>\n",
       "      <td>0.0</td>\n",
       "    </tr>\n",
       "    <tr>\n",
       "      <th>...</th>\n",
       "      <th>...</th>\n",
       "      <td>...</td>\n",
       "      <td>...</td>\n",
       "      <td>...</td>\n",
       "      <td>...</td>\n",
       "      <td>...</td>\n",
       "      <td>...</td>\n",
       "      <td>...</td>\n",
       "      <td>...</td>\n",
       "    </tr>\n",
       "    <tr>\n",
       "      <th rowspan=\"5\" valign=\"top\">GOGL35.SA</th>\n",
       "      <th>2021-05-21</th>\n",
       "      <td>112.0</td>\n",
       "      <td>83.440002</td>\n",
       "      <td>83.349998</td>\n",
       "      <td>83.440002</td>\n",
       "      <td>83.910004</td>\n",
       "      <td>83.440002</td>\n",
       "      <td>0.0</td>\n",
       "      <td>0.0</td>\n",
       "    </tr>\n",
       "    <tr>\n",
       "      <th>2021-05-24</th>\n",
       "      <td>622.0</td>\n",
       "      <td>85.820000</td>\n",
       "      <td>84.440002</td>\n",
       "      <td>84.440002</td>\n",
       "      <td>85.820000</td>\n",
       "      <td>85.820000</td>\n",
       "      <td>0.0</td>\n",
       "      <td>0.0</td>\n",
       "    </tr>\n",
       "    <tr>\n",
       "      <th>2021-05-25</th>\n",
       "      <td>986.0</td>\n",
       "      <td>85.930000</td>\n",
       "      <td>85.169998</td>\n",
       "      <td>85.820000</td>\n",
       "      <td>85.930000</td>\n",
       "      <td>85.930000</td>\n",
       "      <td>0.0</td>\n",
       "      <td>0.0</td>\n",
       "    </tr>\n",
       "    <tr>\n",
       "      <th>2021-05-26</th>\n",
       "      <td>7969.0</td>\n",
       "      <td>86.440002</td>\n",
       "      <td>85.949997</td>\n",
       "      <td>85.949997</td>\n",
       "      <td>86.690002</td>\n",
       "      <td>86.440002</td>\n",
       "      <td>0.0</td>\n",
       "      <td>0.0</td>\n",
       "    </tr>\n",
       "    <tr>\n",
       "      <th>2021-05-28</th>\n",
       "      <td>0.0</td>\n",
       "      <td>83.760002</td>\n",
       "      <td>0.000000</td>\n",
       "      <td>0.000000</td>\n",
       "      <td>0.000000</td>\n",
       "      <td>83.760002</td>\n",
       "      <td>0.0</td>\n",
       "      <td>0.0</td>\n",
       "    </tr>\n",
       "  </tbody>\n",
       "</table>\n",
       "<p>9417 rows × 8 columns</p>\n",
       "</div>"
      ],
      "text/plain": [
       "                       volume      close        low       open       high  \\\n",
       "symbol    date                                                              \n",
       "AAPL34.SA 2012-02-23      0.0   3.164290   3.164290   3.164290   3.164290   \n",
       "          2012-02-24      0.0   3.164290   3.164290   3.164290   3.164290   \n",
       "          2012-02-27      0.0   3.164290   3.164290   3.164290   3.164290   \n",
       "          2012-02-28      0.0   3.164290   3.164290   3.164290   3.164290   \n",
       "          2012-02-29  11200.0   3.308930   3.308930   3.308930   3.308930   \n",
       "...                       ...        ...        ...        ...        ...   \n",
       "GOGL35.SA 2021-05-21    112.0  83.440002  83.349998  83.440002  83.910004   \n",
       "          2021-05-24    622.0  85.820000  84.440002  84.440002  85.820000   \n",
       "          2021-05-25    986.0  85.930000  85.169998  85.820000  85.930000   \n",
       "          2021-05-26   7969.0  86.440002  85.949997  85.949997  86.690002   \n",
       "          2021-05-28      0.0  83.760002   0.000000   0.000000   0.000000   \n",
       "\n",
       "                       adjclose  dividends  splits  \n",
       "symbol    date                                      \n",
       "AAPL34.SA 2012-02-23   0.671165        0.0     0.0  \n",
       "          2012-02-24   0.671165        0.0     0.0  \n",
       "          2012-02-27   0.671165        0.0     0.0  \n",
       "          2012-02-28   0.671165        0.0     0.0  \n",
       "          2012-02-29   0.701844        0.0     0.0  \n",
       "...                         ...        ...     ...  \n",
       "GOGL35.SA 2021-05-21  83.440002        0.0     0.0  \n",
       "          2021-05-24  85.820000        0.0     0.0  \n",
       "          2021-05-25  85.930000        0.0     0.0  \n",
       "          2021-05-26  86.440002        0.0     0.0  \n",
       "          2021-05-28  83.760002        0.0     0.0  \n",
       "\n",
       "[9417 rows x 8 columns]"
      ]
     },
     "execution_count": 23,
     "metadata": {},
     "output_type": "execute_result"
    }
   ],
   "source": [
    "prices"
   ]
  },
  {
   "cell_type": "code",
   "execution_count": 26,
   "id": "hawaiian-trader",
   "metadata": {},
   "outputs": [
    {
     "data": {
      "text/plain": [
       "{'error': 'HTTP 404 Not Found.  Please try again'}"
      ]
     },
     "execution_count": 26,
     "metadata": {},
     "output_type": "execute_result"
    }
   ],
   "source": [
    "income"
   ]
  },
  {
   "cell_type": "code",
   "execution_count": 27,
   "id": "special-content",
   "metadata": {},
   "outputs": [
    {
     "ename": "KeyError",
     "evalue": "0",
     "output_type": "error",
     "traceback": [
      "\u001b[0;31m---------------------------------------------------------------------------\u001b[0m",
      "\u001b[0;31mKeyError\u001b[0m                                  Traceback (most recent call last)",
      "\u001b[0;32m<ipython-input-27-6e74d989f2c7>\u001b[0m in \u001b[0;36m<module>\u001b[0;34m\u001b[0m\n\u001b[0;32m----> 1\u001b[0;31m \u001b[0mincome\u001b[0m\u001b[0;34m[\u001b[0m\u001b[0;36m0\u001b[0m\u001b[0;34m]\u001b[0m\u001b[0;34m\u001b[0m\u001b[0;34m\u001b[0m\u001b[0m\n\u001b[0m",
      "\u001b[0;31mKeyError\u001b[0m: 0"
     ]
    }
   ],
   "source": [
    "income[0]"
   ]
  },
  {
   "cell_type": "code",
   "execution_count": null,
   "id": "strategic-executive",
   "metadata": {},
   "outputs": [],
   "source": []
  }
 ],
 "metadata": {
  "kernelspec": {
   "display_name": "db-stocks",
   "language": "python",
   "name": "db-stocks"
  },
  "language_info": {
   "codemirror_mode": {
    "name": "ipython",
    "version": 3
   },
   "file_extension": ".py",
   "mimetype": "text/x-python",
   "name": "python",
   "nbconvert_exporter": "python",
   "pygments_lexer": "ipython3",
   "version": "3.8.5"
  }
 },
 "nbformat": 4,
 "nbformat_minor": 5
}
